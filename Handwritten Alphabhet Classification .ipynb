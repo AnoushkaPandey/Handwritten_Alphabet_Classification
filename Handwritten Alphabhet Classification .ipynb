{
 "cells": [
  {
   "cell_type": "markdown",
   "id": "681c6292",
   "metadata": {},
   "source": [
    "# Import Dependencies and Setup"
   ]
  },
  {
   "cell_type": "code",
   "execution_count": 49,
   "id": "c05f0532",
   "metadata": {},
   "outputs": [],
   "source": [
    "import pandas as pd\n",
    "import numpy as np\n",
    "import os\n",
    "import matplotlib.pyplot as plt\n",
    "import tensorflow as tf\n",
    "import keras\n",
    "import seaborn as sns\n",
    "from PIL import Image\n",
    "from sklearn.model_selection import train_test_split\n",
    "import keras.backend as K\n",
    "from tensorflow.keras import layers\n",
    "from tensorflow.keras.models import Sequential\n",
    "from sklearn.model_selection import cross_val_score\n",
    "from tensorflow.keras.layers import Dense,Conv2D,Flatten,Dropout,MaxPooling2D,Activation\n",
    "from tensorflow.keras.optimizers import Adam\n",
    "from scipy.ndimage import sobel\n",
    "from sklearn.metrics import accuracy_score, precision_score, recall_score, f1_score, confusion_matrix, classification_report\n",
    "from tensorflow.keras.applications.vgg16 import preprocess_input\n",
    "from sklearn.metrics import mean_absolute_error, mean_squared_error"
   ]
  },
  {
   "cell_type": "code",
   "execution_count": 8,
   "id": "3e946fde",
   "metadata": {},
   "outputs": [],
   "source": [
    "df = pd.read_csv(\"A_Z Handwritten Data.csv\").astype('float32')"
   ]
  },
  {
   "cell_type": "markdown",
   "id": "49082d58",
   "metadata": {},
   "source": [
    "# Exploring the Data"
   ]
  },
  {
   "cell_type": "code",
   "execution_count": 9,
   "id": "68139a9d",
   "metadata": {},
   "outputs": [
    {
     "data": {
      "text/html": [
       "<div>\n",
       "<style scoped>\n",
       "    .dataframe tbody tr th:only-of-type {\n",
       "        vertical-align: middle;\n",
       "    }\n",
       "\n",
       "    .dataframe tbody tr th {\n",
       "        vertical-align: top;\n",
       "    }\n",
       "\n",
       "    .dataframe thead th {\n",
       "        text-align: right;\n",
       "    }\n",
       "</style>\n",
       "<table border=\"1\" class=\"dataframe\">\n",
       "  <thead>\n",
       "    <tr style=\"text-align: right;\">\n",
       "      <th></th>\n",
       "      <th>0</th>\n",
       "      <th>0.1</th>\n",
       "      <th>0.2</th>\n",
       "      <th>0.3</th>\n",
       "      <th>0.4</th>\n",
       "      <th>0.5</th>\n",
       "      <th>0.6</th>\n",
       "      <th>0.7</th>\n",
       "      <th>0.8</th>\n",
       "      <th>0.9</th>\n",
       "      <th>...</th>\n",
       "      <th>0.639</th>\n",
       "      <th>0.640</th>\n",
       "      <th>0.641</th>\n",
       "      <th>0.642</th>\n",
       "      <th>0.643</th>\n",
       "      <th>0.644</th>\n",
       "      <th>0.645</th>\n",
       "      <th>0.646</th>\n",
       "      <th>0.647</th>\n",
       "      <th>0.648</th>\n",
       "    </tr>\n",
       "  </thead>\n",
       "  <tbody>\n",
       "    <tr>\n",
       "      <th>0</th>\n",
       "      <td>0.0</td>\n",
       "      <td>0.0</td>\n",
       "      <td>0.0</td>\n",
       "      <td>0.0</td>\n",
       "      <td>0.0</td>\n",
       "      <td>0.0</td>\n",
       "      <td>0.0</td>\n",
       "      <td>0.0</td>\n",
       "      <td>0.0</td>\n",
       "      <td>0.0</td>\n",
       "      <td>...</td>\n",
       "      <td>0.0</td>\n",
       "      <td>0.0</td>\n",
       "      <td>0.0</td>\n",
       "      <td>0.0</td>\n",
       "      <td>0.0</td>\n",
       "      <td>0.0</td>\n",
       "      <td>0.0</td>\n",
       "      <td>0.0</td>\n",
       "      <td>0.0</td>\n",
       "      <td>0.0</td>\n",
       "    </tr>\n",
       "    <tr>\n",
       "      <th>1</th>\n",
       "      <td>0.0</td>\n",
       "      <td>0.0</td>\n",
       "      <td>0.0</td>\n",
       "      <td>0.0</td>\n",
       "      <td>0.0</td>\n",
       "      <td>0.0</td>\n",
       "      <td>0.0</td>\n",
       "      <td>0.0</td>\n",
       "      <td>0.0</td>\n",
       "      <td>0.0</td>\n",
       "      <td>...</td>\n",
       "      <td>0.0</td>\n",
       "      <td>0.0</td>\n",
       "      <td>0.0</td>\n",
       "      <td>0.0</td>\n",
       "      <td>0.0</td>\n",
       "      <td>0.0</td>\n",
       "      <td>0.0</td>\n",
       "      <td>0.0</td>\n",
       "      <td>0.0</td>\n",
       "      <td>0.0</td>\n",
       "    </tr>\n",
       "    <tr>\n",
       "      <th>2</th>\n",
       "      <td>0.0</td>\n",
       "      <td>0.0</td>\n",
       "      <td>0.0</td>\n",
       "      <td>0.0</td>\n",
       "      <td>0.0</td>\n",
       "      <td>0.0</td>\n",
       "      <td>0.0</td>\n",
       "      <td>0.0</td>\n",
       "      <td>0.0</td>\n",
       "      <td>0.0</td>\n",
       "      <td>...</td>\n",
       "      <td>0.0</td>\n",
       "      <td>0.0</td>\n",
       "      <td>0.0</td>\n",
       "      <td>0.0</td>\n",
       "      <td>0.0</td>\n",
       "      <td>0.0</td>\n",
       "      <td>0.0</td>\n",
       "      <td>0.0</td>\n",
       "      <td>0.0</td>\n",
       "      <td>0.0</td>\n",
       "    </tr>\n",
       "    <tr>\n",
       "      <th>3</th>\n",
       "      <td>0.0</td>\n",
       "      <td>0.0</td>\n",
       "      <td>0.0</td>\n",
       "      <td>0.0</td>\n",
       "      <td>0.0</td>\n",
       "      <td>0.0</td>\n",
       "      <td>0.0</td>\n",
       "      <td>0.0</td>\n",
       "      <td>0.0</td>\n",
       "      <td>0.0</td>\n",
       "      <td>...</td>\n",
       "      <td>0.0</td>\n",
       "      <td>0.0</td>\n",
       "      <td>0.0</td>\n",
       "      <td>0.0</td>\n",
       "      <td>0.0</td>\n",
       "      <td>0.0</td>\n",
       "      <td>0.0</td>\n",
       "      <td>0.0</td>\n",
       "      <td>0.0</td>\n",
       "      <td>0.0</td>\n",
       "    </tr>\n",
       "    <tr>\n",
       "      <th>4</th>\n",
       "      <td>0.0</td>\n",
       "      <td>0.0</td>\n",
       "      <td>0.0</td>\n",
       "      <td>0.0</td>\n",
       "      <td>0.0</td>\n",
       "      <td>0.0</td>\n",
       "      <td>0.0</td>\n",
       "      <td>0.0</td>\n",
       "      <td>0.0</td>\n",
       "      <td>0.0</td>\n",
       "      <td>...</td>\n",
       "      <td>0.0</td>\n",
       "      <td>0.0</td>\n",
       "      <td>0.0</td>\n",
       "      <td>0.0</td>\n",
       "      <td>0.0</td>\n",
       "      <td>0.0</td>\n",
       "      <td>0.0</td>\n",
       "      <td>0.0</td>\n",
       "      <td>0.0</td>\n",
       "      <td>0.0</td>\n",
       "    </tr>\n",
       "  </tbody>\n",
       "</table>\n",
       "<p>5 rows × 785 columns</p>\n",
       "</div>"
      ],
      "text/plain": [
       "     0  0.1  0.2  0.3  0.4  0.5  0.6  0.7  0.8  0.9  ...  0.639  0.640  0.641  \\\n",
       "0  0.0  0.0  0.0  0.0  0.0  0.0  0.0  0.0  0.0  0.0  ...    0.0    0.0    0.0   \n",
       "1  0.0  0.0  0.0  0.0  0.0  0.0  0.0  0.0  0.0  0.0  ...    0.0    0.0    0.0   \n",
       "2  0.0  0.0  0.0  0.0  0.0  0.0  0.0  0.0  0.0  0.0  ...    0.0    0.0    0.0   \n",
       "3  0.0  0.0  0.0  0.0  0.0  0.0  0.0  0.0  0.0  0.0  ...    0.0    0.0    0.0   \n",
       "4  0.0  0.0  0.0  0.0  0.0  0.0  0.0  0.0  0.0  0.0  ...    0.0    0.0    0.0   \n",
       "\n",
       "   0.642  0.643  0.644  0.645  0.646  0.647  0.648  \n",
       "0    0.0    0.0    0.0    0.0    0.0    0.0    0.0  \n",
       "1    0.0    0.0    0.0    0.0    0.0    0.0    0.0  \n",
       "2    0.0    0.0    0.0    0.0    0.0    0.0    0.0  \n",
       "3    0.0    0.0    0.0    0.0    0.0    0.0    0.0  \n",
       "4    0.0    0.0    0.0    0.0    0.0    0.0    0.0  \n",
       "\n",
       "[5 rows x 785 columns]"
      ]
     },
     "execution_count": 9,
     "metadata": {},
     "output_type": "execute_result"
    }
   ],
   "source": [
    "df.head()"
   ]
  },
  {
   "cell_type": "code",
   "execution_count": 10,
   "id": "0eeecb5e",
   "metadata": {},
   "outputs": [
    {
     "data": {
      "text/plain": [
       "(372450, 785)"
      ]
     },
     "execution_count": 10,
     "metadata": {},
     "output_type": "execute_result"
    }
   ],
   "source": [
    "df.shape"
   ]
  },
  {
   "cell_type": "code",
   "execution_count": 11,
   "id": "4d333a19",
   "metadata": {},
   "outputs": [
    {
     "name": "stdout",
     "output_type": "stream",
     "text": [
      "<class 'pandas.core.frame.DataFrame'>\n",
      "RangeIndex: 372450 entries, 0 to 372449\n",
      "Columns: 785 entries, 0 to 0.648\n",
      "dtypes: float32(785)\n",
      "memory usage: 1.1 GB\n"
     ]
    }
   ],
   "source": [
    "df.info()"
   ]
  },
  {
   "cell_type": "code",
   "execution_count": 12,
   "id": "0c262186",
   "metadata": {},
   "outputs": [
    {
     "name": "stdout",
     "output_type": "stream",
     "text": [
      "0        float32\n",
      "0.1      float32\n",
      "0.2      float32\n",
      "0.3      float32\n",
      "0.4      float32\n",
      "          ...   \n",
      "0.644    float32\n",
      "0.645    float32\n",
      "0.646    float32\n",
      "0.647    float32\n",
      "0.648    float32\n",
      "Length: 785, dtype: object\n"
     ]
    }
   ],
   "source": [
    "print(df.dtypes)"
   ]
  },
  {
   "cell_type": "code",
   "execution_count": 13,
   "id": "911c7980",
   "metadata": {},
   "outputs": [
    {
     "name": "stdout",
     "output_type": "stream",
     "text": [
      "                   0       0.1       0.2       0.3       0.4       0.5  \\\n",
      "count  372450.000000  372450.0  372450.0  372450.0  372450.0  372450.0   \n",
      "mean       13.523490       0.0       0.0       0.0       0.0       0.0   \n",
      "std         6.736685       0.0       0.0       0.0       0.0       0.0   \n",
      "min         0.000000       0.0       0.0       0.0       0.0       0.0   \n",
      "25%        10.000000       0.0       0.0       0.0       0.0       0.0   \n",
      "50%        14.000000       0.0       0.0       0.0       0.0       0.0   \n",
      "75%        18.000000       0.0       0.0       0.0       0.0       0.0   \n",
      "max        25.000000       0.0       0.0       0.0       0.0       0.0   \n",
      "\n",
      "            0.6       0.7       0.8       0.9  ...          0.639  \\\n",
      "count  372450.0  372450.0  372450.0  372450.0  ...  372450.000000   \n",
      "mean        0.0       0.0       0.0       0.0  ...       0.001616   \n",
      "std         0.0       0.0       0.0       0.0  ...       0.490786   \n",
      "min         0.0       0.0       0.0       0.0  ...       0.000000   \n",
      "25%         0.0       0.0       0.0       0.0  ...       0.000000   \n",
      "50%         0.0       0.0       0.0       0.0  ...       0.000000   \n",
      "75%         0.0       0.0       0.0       0.0  ...       0.000000   \n",
      "max         0.0       0.0       0.0       0.0  ...     252.000000   \n",
      "\n",
      "               0.640          0.641          0.642          0.643  \\\n",
      "count  372450.000000  372450.000000  372450.000000  372450.000000   \n",
      "mean        0.001592       0.001117       0.000929       0.000685   \n",
      "std         0.517295       0.421331       0.419179       0.385566   \n",
      "min         0.000000       0.000000       0.000000       0.000000   \n",
      "25%         0.000000       0.000000       0.000000       0.000000   \n",
      "50%         0.000000       0.000000       0.000000       0.000000   \n",
      "75%         0.000000       0.000000       0.000000       0.000000   \n",
      "max       226.000000     229.000000     228.000000     235.000000   \n",
      "\n",
      "               0.644          0.645          0.646          0.647  \\\n",
      "count  372450.000000  372450.000000  372450.000000  372450.000000   \n",
      "mean        0.000596       0.000618       0.000690       0.000239   \n",
      "std         0.319819       0.208941       0.335227       0.134852   \n",
      "min         0.000000       0.000000       0.000000       0.000000   \n",
      "25%         0.000000       0.000000       0.000000       0.000000   \n",
      "50%         0.000000       0.000000       0.000000       0.000000   \n",
      "75%         0.000000       0.000000       0.000000       0.000000   \n",
      "max       194.000000     103.000000     198.000000      82.000000   \n",
      "\n",
      "               0.648  \n",
      "count  372450.000000  \n",
      "mean        0.000011  \n",
      "std         0.006554  \n",
      "min         0.000000  \n",
      "25%         0.000000  \n",
      "50%         0.000000  \n",
      "75%         0.000000  \n",
      "max         4.000000  \n",
      "\n",
      "[8 rows x 785 columns]\n"
     ]
    }
   ],
   "source": [
    "print(df.describe())"
   ]
  },
  {
   "cell_type": "code",
   "execution_count": 14,
   "id": "2cab26d3",
   "metadata": {},
   "outputs": [
    {
     "name": "stdout",
     "output_type": "stream",
     "text": [
      "0        26\n",
      "0.1       1\n",
      "0.2       1\n",
      "0.3       1\n",
      "0.4       1\n",
      "         ..\n",
      "0.644     5\n",
      "0.645     5\n",
      "0.646     5\n",
      "0.647     3\n",
      "0.648     2\n",
      "Length: 785, dtype: int64\n"
     ]
    }
   ],
   "source": [
    "print(df.nunique())"
   ]
  },
  {
   "cell_type": "code",
   "execution_count": 15,
   "id": "007a5786",
   "metadata": {},
   "outputs": [
    {
     "name": "stdout",
     "output_type": "stream",
     "text": [
      "Index(['0', '0.1', '0.2', '0.3', '0.4', '0.5', '0.6', '0.7', '0.8', '0.9',\n",
      "       ...\n",
      "       '0.639', '0.640', '0.641', '0.642', '0.643', '0.644', '0.645', '0.646',\n",
      "       '0.647', '0.648'],\n",
      "      dtype='object', length=785)\n"
     ]
    }
   ],
   "source": [
    "print(df.columns)"
   ]
  },
  {
   "cell_type": "markdown",
   "id": "ee7ab03a",
   "metadata": {},
   "source": [
    "# Data Cleaning"
   ]
  },
  {
   "cell_type": "code",
   "execution_count": 16,
   "id": "3737f189",
   "metadata": {},
   "outputs": [
    {
     "name": "stdout",
     "output_type": "stream",
     "text": [
      "171355\n",
      "0        0\n",
      "0.1      0\n",
      "0.2      0\n",
      "0.3      0\n",
      "0.4      0\n",
      "        ..\n",
      "0.644    0\n",
      "0.645    0\n",
      "0.646    0\n",
      "0.647    0\n",
      "0.648    0\n",
      "Length: 785, dtype: int64\n"
     ]
    }
   ],
   "source": [
    "print(df.duplicated().sum())\n",
    "print(df.isnull().sum())"
   ]
  },
  {
   "cell_type": "code",
   "execution_count": 17,
   "id": "07eab772",
   "metadata": {},
   "outputs": [],
   "source": [
    "df = df.drop_duplicates()\n",
    "df = df.dropna()"
   ]
  },
  {
   "cell_type": "code",
   "execution_count": 18,
   "id": "7004e7e0",
   "metadata": {},
   "outputs": [
    {
     "data": {
      "text/plain": [
       "(201095, 785)"
      ]
     },
     "execution_count": 18,
     "metadata": {},
     "output_type": "execute_result"
    }
   ],
   "source": [
    "df.shape"
   ]
  },
  {
   "cell_type": "markdown",
   "id": "ea8a13a4",
   "metadata": {},
   "source": [
    "# Exploratory Data Analysis"
   ]
  },
  {
   "cell_type": "markdown",
   "id": "32b02f00",
   "metadata": {},
   "source": [
    "### 1. Count of Each Alphabet"
   ]
  },
  {
   "cell_type": "code",
   "execution_count": 19,
   "id": "ffa3875a",
   "metadata": {},
   "outputs": [
    {
     "data": {
      "image/png": "[encoded data removed]",
      "text/plain": [
       "<Figure size 1000x600 with 1 Axes>"
      ]
     },
     "metadata": {},
     "output_type": "display_data"
    }
   ],
   "source": [
    "plt.figure(figsize=(10, 6))\n",
    "sns.countplot(x=df['0'], color='c')\n",
    "plt.title(\"Count of Each Alphabet\")\n",
    "plt.show()"
   ]
  },
  {
   "cell_type": "markdown",
   "id": "c971edc2",
   "metadata": {},
   "source": [
    "# Display the samples as images "
   ]
  },
  {
   "cell_type": "code",
   "execution_count": 20,
   "id": "d1a4d2bd",
   "metadata": {},
   "outputs": [],
   "source": [
    "samples = df.sample(10)"
   ]
  },
  {
   "cell_type": "code",
   "execution_count": 21,
   "id": "01e8ce73",
   "metadata": {},
   "outputs": [],
   "source": [
    "samples_array = samples.to_numpy()"
   ]
  },
  {
   "cell_type": "code",
   "execution_count": 22,
   "id": "1c406912",
   "metadata": {},
   "outputs": [],
   "source": [
    "samples_2d = samples_array[:, 1:].reshape(10, 28, 28)"
   ]
  },
  {
   "cell_type": "code",
   "execution_count": 23,
   "id": "6c1bb8f4",
   "metadata": {},
   "outputs": [
    {
     "data": {
      "image/png": "[encoded data removed]",
      "text/plain": [
       "<Figure size 1000x400 with 10 Axes>"
      ]
     },
     "metadata": {},
     "output_type": "display_data"
    }
   ],
   "source": [
    "fig, axes = plt.subplots(nrows=2, ncols=5, figsize=(10, 4))\n",
    "for i, ax in enumerate(axes.flatten()):\n",
    "    ax.imshow(samples_2d[i], cmap='gray')\n",
    "    ax.axis('off')\n",
    "\n",
    "plt.tight_layout()\n",
    "plt.show()"
   ]
  },
  {
   "cell_type": "markdown",
   "id": "bbd58ade",
   "metadata": {},
   "source": [
    "# Data Preprocessing"
   ]
  },
  {
   "cell_type": "code",
   "execution_count": 24,
   "id": "f3d4e989",
   "metadata": {},
   "outputs": [],
   "source": [
    "X = df.iloc[:, 1:].values / 255.0\n",
    "y = df.iloc[:, 0].values"
   ]
  },
  {
   "cell_type": "markdown",
   "id": "f6615fb3",
   "metadata": {},
   "source": [
    "# Reshaping for CNN Input and Train-Test Split"
   ]
  },
  {
   "cell_type": "code",
   "execution_count": 25,
   "id": "8252f29b",
   "metadata": {},
   "outputs": [],
   "source": [
    "X_train, X_test, y_train, y_test = train_test_split(X, y, test_size=0.2, random_state=42)\n",
    "X_train = X_train.reshape(-1, 28, 28, 1)\n",
    "X_test = X_test.reshape(-1, 28, 28, 1)"
   ]
  },
  {
   "cell_type": "markdown",
   "id": "e4aac1ca",
   "metadata": {},
   "source": [
    "# Conv2D, ReLU Model Build"
   ]
  },
  {
   "cell_type": "code",
   "execution_count": 26,
   "id": "e6469639",
   "metadata": {},
   "outputs": [],
   "source": [
    "model = Sequential()"
   ]
  },
  {
   "cell_type": "code",
   "execution_count": 27,
   "id": "f1786d5b",
   "metadata": {},
   "outputs": [],
   "source": [
    "model.add(Conv2D(filters=32, kernel_size=(3, 3), input_shape=(28, 28, 1)))\n",
    "model.add(Activation('relu'))\n",
    "\n",
    "model.add(Conv2D(filters=64, kernel_size=(3, 3)))\n",
    "model.add(Activation('relu'))\n",
    "model.add(MaxPooling2D(pool_size=(2, 2)))\n",
    "\n",
    "model.add(Conv2D(filters=128, kernel_size=(3, 3)))\n",
    "model.add(Activation('relu'))\n",
    "model.add(MaxPooling2D(pool_size=(2, 2)))\n",
    "\n",
    "model.add(Conv2D(filters=256, kernel_size=(3, 3)))\n",
    "model.add(Activation('relu'))\n",
    "model.add(MaxPooling2D(pool_size=(2, 2)))\n",
    "\n",
    "model.add(Flatten())\n",
    "model.add(Dense(units=512))\n",
    "model.add(Activation('relu'))\n",
    "model.add(Dense(units=26))\n",
    "model.add(Activation('softmax'))"
   ]
  },
  {
   "cell_type": "code",
   "execution_count": 28,
   "id": "efcb3a75",
   "metadata": {},
   "outputs": [],
   "source": [
    "model.compile(optimizer='adam', loss='sparse_categorical_crossentropy', metrics=['accuracy'])"
   ]
  },
  {
   "cell_type": "code",
   "execution_count": 29,
   "id": "ef6a5ac1",
   "metadata": {},
   "outputs": [
    {
     "name": "stdout",
     "output_type": "stream",
     "text": [
      "Epoch 1/10\n",
      "5028/5028 [==============================] - 342s 68ms/step - loss: 0.1551 - accuracy: 0.9555 - val_loss: 0.0848 - val_accuracy: 0.9778\n",
      "Epoch 2/10\n",
      "5028/5028 [==============================] - 309s 62ms/step - loss: 0.0621 - accuracy: 0.9824 - val_loss: 0.0655 - val_accuracy: 0.9815\n",
      "Epoch 3/10\n",
      "5028/5028 [==============================] - 300s 60ms/step - loss: 0.0459 - accuracy: 0.9871 - val_loss: 0.0530 - val_accuracy: 0.9856\n",
      "Epoch 4/10\n",
      "5028/5028 [==============================] - 364s 72ms/step - loss: 0.0377 - accuracy: 0.9889 - val_loss: 0.0622 - val_accuracy: 0.9838\n",
      "Epoch 5/10\n",
      "5028/5028 [==============================] - 383s 76ms/step - loss: 0.0310 - accuracy: 0.9905 - val_loss: 0.0589 - val_accuracy: 0.9846\n",
      "Epoch 6/10\n",
      "5028/5028 [==============================] - 387s 77ms/step - loss: 0.0250 - accuracy: 0.9925 - val_loss: 0.0582 - val_accuracy: 0.9867\n",
      "Epoch 7/10\n",
      "5028/5028 [==============================] - 414s 82ms/step - loss: 0.0227 - accuracy: 0.9931 - val_loss: 0.0621 - val_accuracy: 0.9872\n",
      "Epoch 8/10\n",
      "5028/5028 [==============================] - 412s 82ms/step - loss: 0.0211 - accuracy: 0.9936 - val_loss: 0.0732 - val_accuracy: 0.9861\n",
      "Epoch 9/10\n",
      "5028/5028 [==============================] - 409s 81ms/step - loss: 0.0186 - accuracy: 0.9944 - val_loss: 0.0706 - val_accuracy: 0.9861\n",
      "Epoch 10/10\n",
      "5028/5028 [==============================] - 383s 76ms/step - loss: 0.0177 - accuracy: 0.9945 - val_loss: 0.0765 - val_accuracy: 0.9862\n"
     ]
    },
    {
     "data": {
      "text/plain": [
       "<keras.callbacks.History at 0x2777fb429a0>"
      ]
     },
     "execution_count": 29,
     "metadata": {},
     "output_type": "execute_result"
    }
   ],
   "source": [
    "model.fit(X_train, y_train, epochs=10, batch_size=32, validation_data=(X_test, y_test))"
   ]
  },
  {
   "cell_type": "code",
   "execution_count": 30,
   "id": "64e0d467",
   "metadata": {},
   "outputs": [
    {
     "name": "stdout",
     "output_type": "stream",
     "text": [
      "1257/1257 [==============================] - 26s 20ms/step\n"
     ]
    }
   ],
   "source": [
    "y_pred = model.predict(X_test)"
   ]
  },
  {
   "cell_type": "markdown",
   "id": "3007aee5",
   "metadata": {},
   "source": [
    "# Performance of Train and Test set"
   ]
  },
  {
   "cell_type": "code",
   "execution_count": 31,
   "id": "7c1986ff",
   "metadata": {},
   "outputs": [],
   "source": [
    "y_pred_labels = np.argmax(y_pred, axis=1)\n",
    "y_true_labels = np.reshape(y_test, (-1, 1))"
   ]
  },
  {
   "cell_type": "code",
   "execution_count": 32,
   "id": "0ed93cb4",
   "metadata": {},
   "outputs": [],
   "source": [
    "_, accuracy = model.evaluate(X_test, y_test, verbose=0)"
   ]
  },
  {
   "cell_type": "code",
   "execution_count": 34,
   "id": "d5e256ad",
   "metadata": {},
   "outputs": [],
   "source": [
    "precision = precision_score(y_true_labels, y_pred_labels, average='weighted')\n",
    "recall = recall_score(y_true_labels, y_pred_labels, average='weighted')\n",
    "f1 = f1_score(y_true_labels, y_pred_labels, average='weighted')"
   ]
  },
  {
   "cell_type": "code",
   "execution_count": 46,
   "id": "91ff1a02",
   "metadata": {},
   "outputs": [
    {
     "name": "stdout",
     "output_type": "stream",
     "text": [
      "Accuracy: 98.62%\n",
      "Precision: 0.99\n",
      "Recall: 0.99\n",
      "F1 Score: 0.99\n"
     ]
    }
   ],
   "source": [
    "print(\"Accuracy: {:.2f}%\".format(accuracy * 100))\n",
    "print(\"Precision: {:.2f}\".format(precision))\n",
    "print(\"Recall: {:.2f}\".format(recall))\n",
    "print(\"F1 Score: {:.2f}\".format(f1))"
   ]
  },
  {
   "cell_type": "markdown",
   "id": "062d67cc",
   "metadata": {},
   "source": [
    "# Plotting all filters"
   ]
  },
  {
   "cell_type": "code",
   "execution_count": 36,
   "id": "f2772e7e",
   "metadata": {},
   "outputs": [
    {
     "data": {
      "image/png": "[encoded data removed]",
      "text/plain": [
       "<Figure size 1000x600 with 32 Axes>"
      ]
     },
     "metadata": {},
     "output_type": "display_data"
    }
   ],
   "source": [
    "filters, biases = model.layers[0].get_weights()\n",
    "plt.figure(figsize=(10, 6))\n",
    "for i in range(32):\n",
    "    plt.subplot(4, 8, i+1)\n",
    "    plt.imshow(filters[:, :, 0, i], cmap='gray')\n",
    "    plt.axis('off')\n",
    "plt.suptitle(\"Filters\")\n",
    "plt.show()"
   ]
  },
  {
   "cell_type": "markdown",
   "id": "2c218288",
   "metadata": {},
   "source": [
    "# Get the filters"
   ]
  },
  {
   "cell_type": "code",
   "execution_count": 37,
   "id": "a9f48ffd",
   "metadata": {},
   "outputs": [],
   "source": [
    "filters, biases = model.layers[0].get_weights()"
   ]
  },
  {
   "cell_type": "markdown",
   "id": "924b155e",
   "metadata": {},
   "source": [
    "# Plotting each of the channels (color image RGB channels)"
   ]
  },
  {
   "cell_type": "code",
   "execution_count": 38,
   "id": "9cb9e4b7",
   "metadata": {},
   "outputs": [
    {
     "data": {
      "image/png": "[encoded data removed]",
      "text/plain": [
       "<Figure size 1200x600 with 3 Axes>"
      ]
     },
     "metadata": {},
     "output_type": "display_data"
    }
   ],
   "source": [
    "plt.figure(figsize=(12, 6))\n",
    "for i in range(3):\n",
    "    plt.subplot(1, 3, i+1)\n",
    "    plt.imshow(filters[:, :, 0, i], cmap='gray')\n",
    "    plt.axis('off')\n",
    "    plt.title(f\"Channel {i+1}\")\n",
    "plt.suptitle(\"RGB Channels\")\n",
    "plt.show()"
   ]
  },
  {
   "cell_type": "markdown",
   "id": "a5cbbb84",
   "metadata": {},
   "source": [
    "# Classify Handwritten Alphabet using Predictions"
   ]
  },
  {
   "cell_type": "code",
   "execution_count": 39,
   "id": "089aeef0",
   "metadata": {},
   "outputs": [
    {
     "name": "stdout",
     "output_type": "stream",
     "text": [
      "1257/1257 [==============================] - 26s 21ms/step\n"
     ]
    }
   ],
   "source": [
    "predictions = model.predict(X_test)"
   ]
  },
  {
   "cell_type": "code",
   "execution_count": 40,
   "id": "1c82c467",
   "metadata": {},
   "outputs": [],
   "source": [
    "predicted_labels = np.argmax(predictions, axis=1)"
   ]
  },
  {
   "cell_type": "markdown",
   "id": "516ec59c",
   "metadata": {},
   "source": [
    "# Generate classification report"
   ]
  },
  {
   "cell_type": "code",
   "execution_count": 41,
   "id": "9fb28c7b",
   "metadata": {},
   "outputs": [
    {
     "name": "stdout",
     "output_type": "stream",
     "text": [
      "              precision    recall  f1-score   support\n",
      "\n",
      "         0.0       0.98      0.99      0.98      1515\n",
      "         1.0       0.98      0.98      0.98       971\n",
      "         2.0       0.99      0.99      0.99      2359\n",
      "         3.0       0.96      0.93      0.95      1078\n",
      "         4.0       1.00      0.96      0.98      1275\n",
      "         5.0       0.95      0.99      0.97       231\n",
      "         6.0       0.94      0.98      0.96       662\n",
      "         7.0       0.96      0.98      0.97       786\n",
      "         8.0       0.98      1.00      0.99       228\n",
      "         9.0       0.98      0.97      0.98       903\n",
      "        10.0       0.98      0.98      0.98       618\n",
      "        11.0       0.99      0.98      0.99      1184\n",
      "        12.0       0.99      1.00      0.99      2004\n",
      "        13.0       0.99      0.99      0.99      1994\n",
      "        14.0       0.98      0.99      0.99      5945\n",
      "        15.0       0.99      0.99      0.99      1986\n",
      "        16.0       0.98      0.97      0.97       647\n",
      "        17.0       0.99      0.97      0.98      1201\n",
      "        18.0       1.00      1.00      1.00      4890\n",
      "        19.0       0.99      0.99      0.99      2386\n",
      "        20.0       0.99      0.99      0.99      3059\n",
      "        21.0       0.99      0.99      0.99       540\n",
      "        22.0       0.99      0.99      0.99      1156\n",
      "        23.0       0.98      0.98      0.98       693\n",
      "        24.0       0.98      0.98      0.98      1210\n",
      "        25.0       1.00      0.98      0.99       698\n",
      "\n",
      "    accuracy                           0.99     40219\n",
      "   macro avg       0.98      0.98      0.98     40219\n",
      "weighted avg       0.99      0.99      0.99     40219\n",
      "\n"
     ]
    }
   ],
   "source": [
    "report = classification_report(y_test, predicted_labels)\n",
    "print(report)"
   ]
  },
  {
   "cell_type": "markdown",
   "id": "d62c82bb",
   "metadata": {},
   "source": [
    "# Visualize Confusion Matrix"
   ]
  },
  {
   "cell_type": "code",
   "execution_count": 45,
   "id": "cd665eeb",
   "metadata": {},
   "outputs": [
    {
     "data": {
      "image/png": "[encoded data removed]",
      "text/plain": [
       "<Figure size 800x600 with 2 Axes>"
      ]
     },
     "metadata": {},
     "output_type": "display_data"
    }
   ],
   "source": [
    "cm = confusion_matrix(y_test, predicted_labels)\n",
    "plt.figure(figsize=(8, 6))\n",
    "sns.heatmap(cm, annot=True, fmt='d', cmap='YlGnBu')\n",
    "plt.xlabel('Predicted')\n",
    "plt.ylabel('Actual')\n",
    "plt.title('Confusion Matrix')\n",
    "plt.tight_layout()\n",
    "plt.show()"
   ]
  }
 ],
 "metadata": {
  "kernelspec": {
   "display_name": "Python 3 (ipykernel)",
   "language": "python",
   "name": "python3"
  },
  "language_info": {
   "codemirror_mode": {
    "name": "ipython",
    "version": 3
   },
   "file_extension": ".py",
   "mimetype": "text/x-python",
   "name": "python",
   "nbconvert_exporter": "python",
   "pygments_lexer": "ipython3",
   "version": "3.9.13"
  }
 },
 "nbformat": 4,
 "nbformat_minor": 5
}
